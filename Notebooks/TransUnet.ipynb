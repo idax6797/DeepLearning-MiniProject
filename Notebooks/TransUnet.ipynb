{
  "cells": [
    {
      "cell_type": "markdown",
      "metadata": {
        "id": "view-in-github",
        "colab_type": "text"
      },
      "source": [
        "<a href=\"https://colab.research.google.com/github/idax6797/DeepLearning-MiniProject/blob/main/Notebooks/TransUnet.ipynb\" target=\"_parent\"><img src=\"https://colab.research.google.com/assets/colab-badge.svg\" alt=\"Open In Colab\"/></a>"
      ]
    },
    {
      "cell_type": "markdown",
      "id": "3328a446",
      "metadata": {
        "id": "3328a446"
      },
      "source": [
        "# Tumor Segmnetation in PET-MPT Images using TransUnet"
      ]
    },
    {
      "cell_type": "code",
      "source": [
        "!git status\n"
      ],
      "metadata": {
        "colab": {
          "base_uri": "https://localhost:8080/"
        },
        "id": "pHYbLOFpgRgH",
        "outputId": "106a0a7d-17b8-4bda-bb4f-b93288da7eb9"
      },
      "id": "pHYbLOFpgRgH",
      "execution_count": 4,
      "outputs": [
        {
          "output_type": "stream",
          "name": "stdout",
          "text": [
            "fatal: not a git repository (or any of the parent directories): .git\n"
          ]
        }
      ]
    },
    {
      "cell_type": "code",
      "execution_count": null,
      "id": "60da0216",
      "metadata": {
        "id": "60da0216"
      },
      "outputs": [],
      "source": [
        "import torch\n",
        "import torch.nn as nn\n",
        "import torch.nn.functional as F\n",
        "from torch.utils.data import Dataset, DataLoader\n",
        "import torchvision.transforms as transforms\n",
        "from torchvision import models\n",
        "\n",
        "import numpy as np\n",
        "import matplotlib.pyplot as plt\n",
        "from PIL import Image\n",
        "import os\n",
        "from pathlib import Path\n",
        "from typing import Tuple, List\n",
        "import cv2\n",
        "from tqdm import tqdm"
      ]
    },
    {
      "cell_type": "code",
      "execution_count": null,
      "id": "ff1ec923",
      "metadata": {
        "colab": {
          "base_uri": "https://localhost:8080/"
        },
        "id": "ff1ec923",
        "outputId": "cea51c59-6690-4f10-98f9-2cca133d89d8"
      },
      "outputs": [
        {
          "output_type": "stream",
          "name": "stdout",
          "text": [
            "Using device: cuda\n"
          ]
        }
      ],
      "source": [
        "device = torch.device(\"cuda\" if torch.cuda.is_available() else \"cpu\")\n",
        "print(f'Using device: {device}')"
      ]
    },
    {
      "cell_type": "markdown",
      "id": "af45537f",
      "metadata": {
        "id": "af45537f"
      },
      "source": [
        "# DataLoader"
      ]
    },
    {
      "cell_type": "code",
      "execution_count": null,
      "id": "6c9e13f5",
      "metadata": {
        "id": "6c9e13f5"
      },
      "outputs": [],
      "source": [
        "class TumorSegmentationDataset(Dataset):\n",
        "    def __init__(self, data_dir:str, transform=None, image_size=(256, 256)):\n",
        "        self.data_dir = data_dir\n",
        "        self.transform = transform\n",
        "        self.image_size = image_size\n",
        "\n",
        "        self.image_dir = os.path.join(data_dir, 'patients/imgs')\n",
        "        self.mask_dir = os.path.join(data_dir, 'patients/labels')\n",
        "        self.control_dir = os.path.join(data_dir, 'controls/imgs')\n",
        "\n",
        "        self.image_files = sorted([f for f in os.listdir(self.image_dir) if f.endswith('.png')])\n",
        "        self.control_files = sorted([f for f in os.listdir(self.control_dir) if f.endswith('.png')])\n",
        "\n",
        "        self.samples = []\n",
        "\n",
        "        for img_file in self.image_files:\n",
        "            img_path = os.path.join(self.image_dir, img_file)\n",
        "            mask_file = img_file.replace('patient_', 'segmentation_')\n",
        "            mask_path = os.path.join(self.mask_dir, mask_file)\n",
        "            self.samples.append((img_path, mask_path, False))\n",
        "\n",
        "        for img_file in self.control_files:\n",
        "            img_path = os.path.join(self.control_dir, img_file)\n",
        "            self.samples.append((img_path, None, True))\n",
        "\n",
        "        print(f\"Total samples: {len(self.samples)} (Patients: {len(self.image_files)}, Controls: {len(self.control_files)})\")\n",
        "\n",
        "    def __len__(self):\n",
        "        return len(self.samples)\n",
        "\n",
        "    def __getitem__(self, idx):\n",
        "        img_path, mask_path, is_control = self.samples[idx]\n",
        "\n",
        "\n",
        "        image = Image.open(img_path).convert('L')\n",
        "        image = image.resize(self.image_size, Image.BILINEAR)\n",
        "        image = np.array(image).astype(np.float32)\n",
        "\n",
        "        if image.max() > 1:\n",
        "            image = image / 255.0\n",
        "\n",
        "        if mask_path and os.path.exists(mask_path):\n",
        "            mask = Image.open(mask_path).convert('L')\n",
        "            mask = mask.resize(self.image_size, Image.NEAREST)\n",
        "            mask = np.array(mask).astype(np.float32)\n",
        "            mask = (mask > 0.5).astype(np.float32)\n",
        "        else:\n",
        "            mask = np.zeros_like(image)\n",
        "\n",
        "        #print(f\"Image shape: {image.shape}, Mask shape: {mask.shape}\")\n",
        "\n",
        "        if len(image.shape) == 2:\n",
        "            image = np.expand_dims(image, axis=0)\n",
        "\n",
        "        if len(mask.shape) == 2:\n",
        "            mask = np.expand_dims(mask, axis=0)\n",
        "\n",
        "        #Convert to tensors\n",
        "        image = torch.from_numpy(image)\n",
        "        mask = torch.from_numpy(mask)\n",
        "\n",
        "        if self.transform:\n",
        "            state = torch.get_rng_state()\n",
        "            image = self.transform(image)\n",
        "            torch.set_rng_state(state)\n",
        "            mask = self.transform(mask)\n",
        "\n",
        "        return image, mask"
      ]
    },
    {
      "cell_type": "code",
      "execution_count": null,
      "id": "096cbf78",
      "metadata": {
        "colab": {
          "base_uri": "https://localhost:8080/"
        },
        "id": "096cbf78",
        "outputId": "d04ce460-eb13-4541-b32c-d783f408981b"
      },
      "outputs": [
        {
          "output_type": "stream",
          "name": "stdout",
          "text": [
            "Total samples: 608 (Patients: 182, Controls: 426)\n",
            "DataLoader ready: 76 batches per epoch.\n"
          ]
        }
      ],
      "source": [
        "train_dataset = TumorSegmentationDataset(data_dir='/content/drive/MyDrive/Deep Learning Mini Project Tumor Images/data')\n",
        "train_loader = DataLoader(train_dataset, batch_size=8, shuffle=True)\n",
        "\n",
        "print(f\"DataLoader ready: {len(train_loader)} batches per epoch.\")"
      ]
    },
    {
      "cell_type": "code",
      "execution_count": null,
      "id": "c000bc9f",
      "metadata": {
        "colab": {
          "base_uri": "https://localhost:8080/",
          "height": 306
        },
        "id": "c000bc9f",
        "outputId": "cfb268ed-e93f-4b0f-ff59-d56a9471af5c"
      },
      "outputs": [
        {
          "output_type": "display_data",
          "data": {
            "text/plain": [
              "<Figure size 1000x500 with 2 Axes>"
            ],
            "image/png": "[encoded data removed]"
          },
          "metadata": {}
        }
      ],
      "source": [
        "# Display Random image and label.\n",
        "train_features, train_labels = next(iter(train_loader))\n",
        "fig, (ax1, ax2) = plt.subplots(1, 2, figsize=(10, 5))\n",
        "ax1.imshow(train_features[0].squeeze(), cmap=\"gray\")\n",
        "ax1.set_title('Input Image')\n",
        "ax2.imshow(train_labels[0].squeeze(), cmap=\"gray\")\n",
        "ax2.set_title('Groundthruth Mask')\n",
        "plt.tight_layout()\n",
        "plt.show()"
      ]
    },
    {
      "cell_type": "markdown",
      "id": "9c4ea66a",
      "metadata": {
        "id": "9c4ea66a"
      },
      "source": [
        "# TransUnet Architecture"
      ]
    },
    {
      "cell_type": "code",
      "execution_count": null,
      "id": "7987c9fd",
      "metadata": {
        "id": "7987c9fd"
      },
      "outputs": [],
      "source": [
        "class PatchEmbedding(nn.Module):\n",
        "    \"\"\"Split image into patches and embed them\"\"\"\n",
        "\n",
        "    def __init__(self, img_size=256, patch_size=16, in_channels=3, embed_dim=768):\n",
        "        super().__init__()\n",
        "        self.img_size = img_size\n",
        "        self.patch_size = patch_size\n",
        "        self.n_patches = (img_size // patch_size) ** 2\n",
        "\n",
        "        self.proj = nn.Conv2d(in_channels, embed_dim,\n",
        "                             kernel_size=patch_size, stride=patch_size)\n",
        "\n",
        "    def forward(self, x):\n",
        "        x = self.proj(x)  # (B, embed_dim, H/P, W/P)\n",
        "        x = x.flatten(2)  # (B, embed_dim, n_patches)\n",
        "        x = x.transpose(1, 2)  # (B, n_patches, embed_dim)\n",
        "        return x"
      ]
    },
    {
      "cell_type": "code",
      "execution_count": null,
      "id": "68332f81",
      "metadata": {
        "id": "68332f81"
      },
      "outputs": [],
      "source": [
        "class MultiHeadAttention(nn.Module):\n",
        "    \"\"\"Multi-head self-attention mechanism\"\"\"\n",
        "\n",
        "    def __init__(self, embed_dim=768, num_heads=12, dropout=0.1):\n",
        "        super().__init__()\n",
        "        self.embed_dim = embed_dim\n",
        "        self.num_heads = num_heads\n",
        "        self.head_dim = embed_dim // num_heads\n",
        "\n",
        "        self.qkv = nn.Linear(embed_dim, embed_dim * 3)\n",
        "        self.proj = nn.Linear(embed_dim, embed_dim)\n",
        "        self.dropout = nn.Dropout(dropout)\n",
        "\n",
        "    def forward(self, x):\n",
        "        B, N, C = x.shape\n",
        "\n",
        "        qkv = self.qkv(x).reshape(B, N, 3, self.num_heads, self.head_dim)\n",
        "        qkv = qkv.permute(2, 0, 3, 1, 4)\n",
        "        q, k, v = qkv[0], qkv[1], qkv[2]\n",
        "\n",
        "        attn = (q @ k.transpose(-2, -1)) * (self.head_dim ** -0.5)\n",
        "        attn = attn.softmax(dim=-1)\n",
        "        attn = self.dropout(attn)\n",
        "\n",
        "        x = (attn @ v).transpose(1, 2).reshape(B, N, C)\n",
        "        x = self.proj(x)\n",
        "        x = self.dropout(x)\n",
        "\n",
        "        return x"
      ]
    },
    {
      "cell_type": "code",
      "execution_count": null,
      "id": "54437a58",
      "metadata": {
        "id": "54437a58"
      },
      "outputs": [],
      "source": [
        "class TransformerBlock(nn.Module):\n",
        "    \"\"\"Transformer encoder block\"\"\"\n",
        "\n",
        "    def __init__(self, embed_dim=768, num_heads=12, mlp_ratio=4, dropout=0.1):\n",
        "        super().__init__()\n",
        "        self.norm1 = nn.LayerNorm(embed_dim)\n",
        "        self.attn = MultiHeadAttention(embed_dim, num_heads, dropout)\n",
        "        self.norm2 = nn.LayerNorm(embed_dim)\n",
        "\n",
        "        mlp_hidden_dim = int(embed_dim * mlp_ratio)\n",
        "        self.mlp = nn.Sequential(\n",
        "            nn.Linear(embed_dim, mlp_hidden_dim),\n",
        "            nn.GELU(),\n",
        "            nn.Dropout(dropout),\n",
        "            nn.Linear(mlp_hidden_dim, embed_dim),\n",
        "            nn.Dropout(dropout)\n",
        "        )\n",
        "\n",
        "    def forward(self, x):\n",
        "        x = x + self.attn(self.norm1(x))\n",
        "        x = x + self.mlp(self.norm2(x))\n",
        "        return x"
      ]
    },
    {
      "cell_type": "code",
      "execution_count": null,
      "id": "b465618d",
      "metadata": {
        "id": "b465618d"
      },
      "outputs": [],
      "source": [
        "class CNNEncoder(nn.Module):\n",
        "    \"\"\"CNN encoder for grayscale images\"\"\"\n",
        "\n",
        "    def __init__(self, in_channels=1):\n",
        "        super().__init__()\n",
        "\n",
        "        # Custom encoder for grayscale images\n",
        "        self.conv1 = nn.Sequential(\n",
        "            nn.Conv2d(in_channels, 64, kernel_size=3, stride=2, padding=1),\n",
        "            nn.BatchNorm2d(64),\n",
        "            nn.ReLU(inplace=True),\n",
        "            nn.Conv2d(64, 64, kernel_size=3, stride=1, padding=1),\n",
        "            nn.BatchNorm2d(64),\n",
        "            nn.ReLU(inplace=True)\n",
        "        )\n",
        "\n",
        "        self.conv2 = nn.Sequential(\n",
        "            nn.MaxPool2d(kernel_size=3, stride=2, padding=1),\n",
        "            nn.Conv2d(64, 128, kernel_size=3, stride=1, padding=1),\n",
        "            nn.BatchNorm2d(128),\n",
        "            nn.ReLU(inplace=True),\n",
        "            nn.Conv2d(128, 256, kernel_size=3, stride=1, padding=1),\n",
        "            nn.BatchNorm2d(256),\n",
        "            nn.ReLU(inplace=True)\n",
        "        )\n",
        "\n",
        "        self.conv3 = nn.Sequential(\n",
        "            nn.MaxPool2d(kernel_size=2, stride=2),\n",
        "            nn.Conv2d(256, 512, kernel_size=3, stride=1, padding=1),\n",
        "            nn.BatchNorm2d(512),\n",
        "            nn.ReLU(inplace=True),\n",
        "            nn.Conv2d(512, 512, kernel_size=3, stride=1, padding=1),\n",
        "            nn.BatchNorm2d(512),\n",
        "            nn.ReLU(inplace=True)\n",
        "        )\n",
        "\n",
        "        self.conv4 = nn.Sequential(\n",
        "            nn.MaxPool2d(kernel_size=2, stride=2),\n",
        "            nn.Conv2d(512, 1024, kernel_size=3, stride=1, padding=1),\n",
        "            nn.BatchNorm2d(1024),\n",
        "            nn.ReLU(inplace=True),\n",
        "            nn.Conv2d(1024, 1024, kernel_size=3, stride=1, padding=1),\n",
        "            nn.BatchNorm2d(1024),\n",
        "            nn.ReLU(inplace=True)\n",
        "        )\n",
        "\n",
        "    def forward(self, x):\n",
        "        features = []\n",
        "        x = self.conv1(x)  # (B, 64, H/2, W/2)\n",
        "        features.append(x)\n",
        "\n",
        "        x = self.conv2(x)  # (B, 256, H/4, W/4)\n",
        "        features.append(x)\n",
        "\n",
        "        x = self.conv3(x)  # (B, 512, H/8, W/8)\n",
        "        features.append(x)\n",
        "\n",
        "        x = self.conv4(x)  # (B, 1024, H/16, W/16)\n",
        "        features.append(x)\n",
        "\n",
        "        return features"
      ]
    },
    {
      "cell_type": "code",
      "execution_count": null,
      "id": "46d835df",
      "metadata": {
        "id": "46d835df"
      },
      "outputs": [],
      "source": [
        "class DecoderBlock(nn.Module):\n",
        "    \"\"\"Decoder block with skip connections\"\"\"\n",
        "\n",
        "    def __init__(self, in_channels, skip_channels, out_channels):\n",
        "        super().__init__()\n",
        "        self.upconv = nn.ConvTranspose2d(in_channels, out_channels,\n",
        "                                        kernel_size=2, stride=2)\n",
        "        self.conv = nn.Sequential(\n",
        "            nn.Conv2d(out_channels + skip_channels, out_channels,\n",
        "                     kernel_size=3, padding=1),\n",
        "            nn.BatchNorm2d(out_channels),\n",
        "            nn.ReLU(inplace=True),\n",
        "            nn.Conv2d(out_channels, out_channels, kernel_size=3, padding=1),\n",
        "            nn.BatchNorm2d(out_channels),\n",
        "            nn.ReLU(inplace=True)\n",
        "        )\n",
        "\n",
        "    def forward(self, x, skip):\n",
        "        x = self.upconv(x)\n",
        "        x = torch.cat([x, skip], dim=1)\n",
        "        x = self.conv(x)\n",
        "        return x"
      ]
    },
    {
      "cell_type": "code",
      "execution_count": null,
      "id": "bec2afe3",
      "metadata": {
        "id": "bec2afe3"
      },
      "outputs": [],
      "source": [
        "class TransUNet(nn.Module):\n",
        "    \"\"\"TransUNet architecture for medical image segmentation\"\"\"\n",
        "\n",
        "    def __init__(self, img_size=256, patch_size=16, in_channels=1,\n",
        "                 num_classes=1, embed_dim=768, num_heads=12,\n",
        "                 num_layers=12, mlp_ratio=4, dropout=0.1):\n",
        "        super().__init__()\n",
        "\n",
        "        # Validate that embed_dim is divisible by num_heads\n",
        "        assert embed_dim % num_heads == 0, f\"embed_dim ({embed_dim}) must be divisible by num_heads ({num_heads})\"\n",
        "\n",
        "        # CNN Encoder\n",
        "        self.cnn_encoder = CNNEncoder(in_channels=in_channels)\n",
        "\n",
        "        # Patch embedding\n",
        "        self.patch_embed = PatchEmbedding(\n",
        "            img_size=img_size//16, patch_size=1,\n",
        "            in_channels=1024, embed_dim=embed_dim\n",
        "        )\n",
        "\n",
        "        # Transformer encoder\n",
        "        self.transformer = nn.ModuleList([\n",
        "            TransformerBlock(embed_dim, num_heads, mlp_ratio, dropout)\n",
        "            for _ in range(num_layers)\n",
        "        ])\n",
        "\n",
        "        self.norm = nn.LayerNorm(embed_dim)\n",
        "\n",
        "        # Bridge to decoder\n",
        "        self.conv_bridge = nn.Conv2d(embed_dim, 512, kernel_size=1)\n",
        "\n",
        "        # Decoder\n",
        "        self.decoder4 = DecoderBlock(512, 512, 256)\n",
        "        self.decoder3 = DecoderBlock(256, 256, 128)\n",
        "        self.decoder2 = DecoderBlock(128, 64, 64)\n",
        "        self.decoder1 = DecoderBlock(64, 64, 32)\n",
        "        # Upsample to original size\n",
        "        self.final_upsample = nn.ConvTranspose2d(32, 16, kernel_size=2, stride=2)\n",
        "        # Final output\n",
        "        self.final = nn.Sequential(\n",
        "            nn.Conv2d(64, 16, kernel_size=3, padding=1),\n",
        "            nn.BatchNorm2d(16),\n",
        "            nn.ReLU(inplace=True),\n",
        "            nn.Conv2d(16, num_classes, kernel_size=1)\n",
        "        )\n",
        "\n",
        "    def forward(self, x):\n",
        "        # CNN encoder\n",
        "        features = self.cnn_encoder(x)\n",
        "\n",
        "        # Transformer encoder\n",
        "        x_transformer = self.patch_embed(features[3])\n",
        "        for block in self.transformer:\n",
        "            x_transformer = block(x_transformer)\n",
        "        x_transformer = self.norm(x_transformer)\n",
        "\n",
        "        # Reshape transformer output\n",
        "        B, N, C = x_transformer.shape\n",
        "        H = W = int(N ** 0.5)\n",
        "        x_transformer = x_transformer.transpose(1, 2).reshape(B, C, H, W)\n",
        "        x_transformer = self.conv_bridge(x_transformer)\n",
        "\n",
        "        # Decoder with skip connections\n",
        "        x = self.decoder4(x_transformer, features[2]) # (16x16) -> (32x32) + features[2]\n",
        "        x = self.decoder3(x, features[1]) # (32x32) -> (64x64) + features[1](64x64)\n",
        "        x = self.decoder2(x, features[0]) # (64x64) -> (128x128) + features[0](128x128)\n",
        "\n",
        "        # Upsample to original size\n",
        "        x = F.interpolate(x, scale_factor=2, mode='bilinear', align_corners=True)\n",
        "\n",
        "        # Final output\n",
        "        x = self.final(x)\n",
        "\n",
        "        return x"
      ]
    },
    {
      "cell_type": "markdown",
      "id": "5df871a3",
      "metadata": {
        "id": "5df871a3"
      },
      "source": [
        "# Metrics and Loss Functions\n"
      ]
    },
    {
      "cell_type": "code",
      "execution_count": null,
      "id": "62022e7d",
      "metadata": {
        "id": "62022e7d"
      },
      "outputs": [],
      "source": [
        "def dice_coefficient(pred, target, smooth=1e-5):\n",
        "    \"\"\"Calculate Dice coefficient\"\"\"\n",
        "    pred = torch.sigmoid(pred)\n",
        "    pred = (pred > 0.5).float()\n",
        "\n",
        "    intersection = (pred * target).sum(dim=(2, 3))\n",
        "    union = pred.sum(dim=(2, 3)) + target.sum(dim=(2, 3))\n",
        "\n",
        "    dice = (2. * intersection + smooth) / (union + smooth)\n",
        "    return dice.mean()\n"
      ]
    },
    {
      "cell_type": "code",
      "execution_count": null,
      "id": "109f53d9",
      "metadata": {
        "id": "109f53d9"
      },
      "outputs": [],
      "source": [
        "def calculate_metrics(pred, target, smooth=1e-5):\n",
        "    \"\"\"Calculate TP, TN, FP, FN, IoU\"\"\"\n",
        "    pred = torch.sigmoid(pred)\n",
        "    pred = (pred > 0.5).float()\n",
        "    target = target.float()\n",
        "\n",
        "    # Flatten\n",
        "    pred_flat = pred.view(-1)\n",
        "    target_flat = target.view(-1)\n",
        "\n",
        "    # Calculate confusion matrix components\n",
        "    TP = ((pred_flat == 1) & (target_flat == 1)).sum().item()\n",
        "    TN = ((pred_flat == 0) & (target_flat == 0)).sum().item()\n",
        "    FP = ((pred_flat == 1) & (target_flat == 0)).sum().item()\n",
        "    FN = ((pred_flat == 0) & (target_flat == 1)).sum().item()\n",
        "\n",
        "    # Calculate IoU (Intersection over Union)\n",
        "    intersection = (pred * target).sum().item()\n",
        "    union = pred.sum().item() + target.sum().item() - intersection\n",
        "    iou = (intersection + smooth) / (union + smooth)\n",
        "\n",
        "    return {\n",
        "        'TP': TP,\n",
        "        'TN': TN,\n",
        "        'FP': FP,\n",
        "        'FN': FN,\n",
        "        'IoU': iou,\n",
        "        'Precision': TP / (TP + FP + smooth),\n",
        "        'Recall': TP / (TP + FN + smooth),\n",
        "        'F1': 2 * TP / (2 * TP + FP + FN + smooth)\n",
        "    }"
      ]
    },
    {
      "cell_type": "code",
      "execution_count": null,
      "id": "edc3f049",
      "metadata": {
        "id": "edc3f049"
      },
      "outputs": [],
      "source": [
        "class DiceLoss(nn.Module):\n",
        "    \"\"\"Dice loss for segmentation\"\"\"\n",
        "\n",
        "    def __init__(self, smooth=1e-5):\n",
        "        super().__init__()\n",
        "        self.smooth = smooth\n",
        "\n",
        "    def forward(self, pred, target):\n",
        "        pred = torch.sigmoid(pred)\n",
        "\n",
        "        intersection = (pred * target).sum(dim=(2, 3))\n",
        "        union = pred.sum(dim=(2, 3)) + target.sum(dim=(2, 3))\n",
        "\n",
        "        dice = (2. * intersection + self.smooth) / (union + self.smooth)\n",
        "        return 1 - dice.mean()"
      ]
    },
    {
      "cell_type": "code",
      "execution_count": null,
      "id": "2cfa36da",
      "metadata": {
        "id": "2cfa36da"
      },
      "outputs": [],
      "source": [
        "class CombinedLoss(nn.Module):\n",
        "    \"\"\"Combined BCE and Dice loss\"\"\"\n",
        "\n",
        "    def __init__(self, bce_weight=0.5, dice_weight=0.5):\n",
        "        super().__init__()\n",
        "        self.bce_weight = bce_weight\n",
        "        self.dice_weight = dice_weight\n",
        "        self.bce = nn.BCEWithLogitsLoss()\n",
        "        self.dice = DiceLoss()\n",
        "\n",
        "    def forward(self, pred, target):\n",
        "        bce_loss = self.bce(pred, target)\n",
        "        dice_loss = self.dice(pred, target)\n",
        "        return self.bce_weight * bce_loss + self.dice_weight * dice_loss"
      ]
    },
    {
      "cell_type": "markdown",
      "id": "31d486b7",
      "metadata": {
        "id": "31d486b7"
      },
      "source": [
        "# Training Function\n"
      ]
    },
    {
      "cell_type": "code",
      "execution_count": null,
      "id": "8c555307",
      "metadata": {
        "id": "8c555307"
      },
      "outputs": [],
      "source": [
        "def train_epoch(model, train_loader, optimizer, criterion, device):\n",
        "    model.train()\n",
        "    total_loss = 0\n",
        "    total_dice = 0\n",
        "\n",
        "    pbar = tqdm(train_loader, desc=\"Training\")\n",
        "    for images, masks in pbar:\n",
        "        images = images.to(device)\n",
        "        masks = masks.to(device)\n",
        "\n",
        "        #Forward pass\n",
        "        optimizer.zero_grad()\n",
        "        outputs = model(images)\n",
        "\n",
        "        loss = criterion(outputs, masks)\n",
        "        dice = dice_coefficient(outputs, masks)\n",
        "\n",
        "        #Backward pass\n",
        "        loss.backward()\n",
        "        optimizer.step()\n",
        "\n",
        "        total_loss += loss.item()\n",
        "        total_dice += dice.item()\n",
        "\n",
        "        pbar.set_postfix({\n",
        "            \"Loss\": f'{loss.item():.4f}',\n",
        "            \"Dice\": f'{dice.item():.4f}'\n",
        "        })\n",
        "\n",
        "    avg_loss = total_loss / len(train_loader)\n",
        "    avg_dice = total_dice / len(train_loader)\n",
        "\n",
        "    return avg_loss, avg_dice"
      ]
    },
    {
      "cell_type": "code",
      "execution_count": null,
      "id": "25a5090a",
      "metadata": {
        "id": "25a5090a"
      },
      "outputs": [],
      "source": [
        "def validate(model, val_loader, criterion, device):\n",
        "    \"\"\"Validate the model\"\"\"\n",
        "    model.eval()\n",
        "    total_loss = 0\n",
        "    total_dice = 0\n",
        "    all_metrics = {\n",
        "        'TP': 0, 'TN': 0, 'FP': 0, 'FN': 0,\n",
        "        'IoU': 0, 'Precision': 0, 'Recall': 0, 'F1': 0\n",
        "    }\n",
        "\n",
        "    with torch.no_grad():\n",
        "        for images, masks in tqdm(val_loader, desc='Validation'):\n",
        "            images = images.to(device)\n",
        "            masks = masks.to(device)\n",
        "\n",
        "            outputs = model(images)\n",
        "\n",
        "            loss = criterion(outputs, masks)\n",
        "            dice = dice_coefficient(outputs, masks)\n",
        "            metrics = calculate_metrics(outputs, masks)\n",
        "\n",
        "            total_loss += loss.item()\n",
        "            total_dice += dice.item()\n",
        "\n",
        "            for key in all_metrics:\n",
        "                all_metrics[key] += metrics[key]\n",
        "\n",
        "    avg_loss = total_loss / len(val_loader)\n",
        "    avg_dice = total_dice / len(val_loader)\n",
        "\n",
        "    for key in all_metrics:\n",
        "        all_metrics[key] /= len(val_loader)\n",
        "\n",
        "    return avg_loss, avg_dice, all_metrics"
      ]
    },
    {
      "cell_type": "code",
      "execution_count": null,
      "id": "36b11186",
      "metadata": {
        "id": "36b11186"
      },
      "outputs": [],
      "source": [
        "def plot_training_history(train_losses, train_dices, val_losses, val_dices):\n",
        "    \"\"\"Plot training history\"\"\"\n",
        "    fig, axes = plt.subplots(1, 2, figsize=(15, 5))\n",
        "\n",
        "    # Loss plot\n",
        "    axes[0].plot(train_losses, label='Train Loss')\n",
        "    if val_losses:\n",
        "        axes[0].plot(val_losses, label='Val Loss')\n",
        "    axes[0].set_xlabel('Epoch')\n",
        "    axes[0].set_ylabel('Loss')\n",
        "    axes[0].set_title('Training and Validation Loss')\n",
        "    axes[0].legend()\n",
        "    axes[0].grid(True)\n",
        "\n",
        "    # Dice plot\n",
        "    axes[1].plot(train_dices, label='Train Dice')\n",
        "    if val_dices:\n",
        "        axes[1].plot(val_dices, label='Val Dice')\n",
        "    axes[1].set_xlabel('Epoch')\n",
        "    axes[1].set_ylabel('Dice Score')\n",
        "    axes[1].set_title('Training and Validation Dice Score')\n",
        "    axes[1].legend()\n",
        "    axes[1].grid(True)\n",
        "\n",
        "    plt.tight_layout()\n",
        "    plt.savefig('training_history.png', dpi=300, bbox_inches='tight')\n",
        "    plt.show()"
      ]
    },
    {
      "cell_type": "code",
      "execution_count": null,
      "id": "74ba2394",
      "metadata": {
        "id": "74ba2394"
      },
      "outputs": [],
      "source": [
        "def train_model(model, train_loader, val_loader, num_epochs=50,\n",
        "                learning_rate=1e-4, save_dir='checkpoints'):\n",
        "    \"\"\"Complete training pipeline\"\"\"\n",
        "\n",
        "    os.makedirs(save_dir, exist_ok=True)\n",
        "\n",
        "    criterion = CombinedLoss()\n",
        "    optimizer = torch.optim.Adam(model.parameters(), lr=learning_rate, weight_decay=1e-5)\n",
        "\n",
        "    best_dice = 0.0\n",
        "    train_losses, train_dices = [], []\n",
        "    val_losses, val_dices = [], []\n",
        "\n",
        "    for epoch in range(num_epochs):\n",
        "        print(f'\\nEpoch {epoch+1}/{num_epochs}')\n",
        "        print('-' * 50)\n",
        "\n",
        "        # Train\n",
        "        train_loss, train_dice = train_epoch(\n",
        "            model, train_loader, optimizer, criterion, device\n",
        "        )\n",
        "        train_losses.append(train_loss)\n",
        "        train_dices.append(train_dice)\n",
        "\n",
        "        print(f'Train Loss: {train_loss:.4f}, Train Dice: {train_dice:.4f}')\n",
        "\n",
        "        # Validate\n",
        "        if val_loader:\n",
        "            val_loss, val_dice, metrics = validate(\n",
        "                model, val_loader, criterion, device\n",
        "            )\n",
        "            val_losses.append(val_loss)\n",
        "            val_dices.append(val_dice)\n",
        "\n",
        "            print(f'Val Loss: {val_loss:.4f}, Val Dice: {val_dice:.4f}')\n",
        "            print(f'Val IoU: {metrics[\"IoU\"]:.4f}')\n",
        "            print(f'TP: {metrics[\"TP\"]:.0f}, TN: {metrics[\"TN\"]:.0f}, '\n",
        "                  f'FP: {metrics[\"FP\"]:.0f}, FN: {metrics[\"FN\"]:.0f}')\n",
        "\n",
        "            # Save best model based on Dice score\n",
        "            if val_dice > best_dice:\n",
        "                best_dice = val_dice\n",
        "                torch.save({\n",
        "                    'epoch': epoch,\n",
        "                    'model_state_dict': model.state_dict(),\n",
        "                    'optimizer_state_dict': optimizer.state_dict(),\n",
        "                    'dice_score': best_dice,\n",
        "                    'metrics': metrics\n",
        "                }, os.path.join(save_dir, 'best_model.pth'))\n",
        "                print(f'✓ Best model saved with Dice: {best_dice:.4f}')\n",
        "\n",
        "    # Plot training history\n",
        "    plot_training_history(train_losses, train_dices, val_losses, val_dices)\n",
        "\n",
        "    return model, best_dice"
      ]
    },
    {
      "cell_type": "markdown",
      "id": "5f19b4bc",
      "metadata": {
        "id": "5f19b4bc"
      },
      "source": [
        "# Visualization Function"
      ]
    },
    {
      "cell_type": "code",
      "source": [
        "def visualize_predictions_CM(model, data_loader, device, num_samples=5, save_path='predictions.png'):\n",
        "    \"\"\"Visualize predictions: original image, ground truth, and prediction,\n",
        "    and calculate Image-Level Confusion Matrix for the visualized samples.\"\"\"\n",
        "    model.eval()\n",
        "\n",
        "    # --- 1. Initialize Image-Level Confusion Matrix Counters ---\n",
        "    total_TP = 0\n",
        "    total_TN = 0\n",
        "    total_FP = 0\n",
        "    total_FN = 0\n",
        "\n",
        "    fig, axes = plt.subplots(num_samples, 3, figsize=(12, 4*num_samples))\n",
        "    if num_samples == 1:\n",
        "        axes = axes.reshape(1, -1)\n",
        "\n",
        "    sample_count = 0\n",
        "    with torch.no_grad():\n",
        "        for images, masks in data_loader:\n",
        "            images = images.to(device)\n",
        "            outputs = model(images)\n",
        "            preds = torch.sigmoid(outputs)\n",
        "\n",
        "            for i in range(len(images)):\n",
        "                if sample_count >= num_samples:\n",
        "                    break\n",
        "\n",
        "                # --- A. Prepare Data for Visualization and Metrics ---\n",
        "\n",
        "                # Original image (numpy)\n",
        "                img = images[i].cpu().squeeze().numpy()\n",
        "\n",
        "                # Ground truth mask (numpy)\n",
        "                mask = masks[i].cpu().squeeze().numpy()\n",
        "\n",
        "                # Predicted mask (binarized numpy)\n",
        "                pred = (preds[i].cpu().squeeze().numpy() > 0.5).astype(np.float32)\n",
        "\n",
        "                # Calculate Dice for display title\n",
        "                dice = dice_coefficient(preds[i:i+1], masks[i:i+1].to(device)).item()\n",
        "\n",
        "\n",
        "                # --- B. Image-Level Classification Logic ---\n",
        "\n",
        "                # Image-Level Ground Truth: True if any pixel in mask is 1\n",
        "                is_positive_truth = np.any(mask)\n",
        "\n",
        "                # Image-Level Prediction: True if any pixel in prediction is 1\n",
        "                is_positive_pred = np.any(pred)\n",
        "\n",
        "                # Update Confusion Matrix Counters and determine title suffix\n",
        "                if is_positive_truth and is_positive_pred:\n",
        "                    total_TP += 1\n",
        "                    title_suffix = f'TP (Dice: {dice:.3f})'\n",
        "                elif not is_positive_truth and not is_positive_pred:\n",
        "                    total_TN += 1\n",
        "                    title_suffix = f'TN'\n",
        "                elif not is_positive_truth and is_positive_pred:\n",
        "                    total_FP += 1\n",
        "                    title_suffix = f'FP'\n",
        "                elif is_positive_truth and not is_positive_pred:\n",
        "                    total_FN += 1\n",
        "                    title_suffix = f'FN (Dice: {dice:.3f})'\n",
        "                else:\n",
        "                    title_suffix = 'Error'\n",
        "\n",
        "\n",
        "                # --- C. Plotting ---\n",
        "\n",
        "                # Col 1: Input Image\n",
        "                axes[sample_count, 0].imshow(img, cmap='gray')\n",
        "                axes[sample_count, 0].set_title('Input Image')\n",
        "                axes[sample_count, 0].axis('off')\n",
        "\n",
        "                # Col 2: Ground Truth\n",
        "                axes[sample_count, 1].imshow(mask, cmap='gray')\n",
        "                axes[sample_count, 1].set_title('Ground Truth')\n",
        "                axes[sample_count, 1].axis('off')\n",
        "\n",
        "                # Col 3: Prediction\n",
        "                axes[sample_count, 2].imshow(pred, cmap='gray', vmin=0, vmax=1)\n",
        "                axes[sample_count, 2].set_title(f'Prediction: {title_suffix}')\n",
        "                axes[sample_count, 2].axis('off')\n",
        "\n",
        "                sample_count += 1\n",
        "\n",
        "            if sample_count >= num_samples:\n",
        "                break\n",
        "\n",
        "    plt.tight_layout()\n",
        "    plt.savefig(save_path, dpi=300, bbox_inches='tight')\n",
        "\n",
        "    # --- 2. Print Image-Level Confusion Matrix for the Visualized Samples ---\n",
        "    num_visualized = total_TP + total_TN + total_FP + total_FN\n",
        "\n",
        "    if num_visualized > 0:\n",
        "        accuracy = (total_TP + total_TN) / num_visualized\n",
        "        # Use a small epsilon for division safety\n",
        "        precision = total_TP / (total_TP + total_FP + 1e-8)\n",
        "        recall = total_TP / (total_TP + total_FN + 1e-8)\n",
        "\n",
        "        print(f\"\\nImage-Level Confusion Matrix for {num_visualized} Visualized Samples:\")\n",
        "        print(\"---------------------------------------------------------\")\n",
        "        print(f\"Total Samples: {num_visualized}\")\n",
        "        print(f\"True Positive (TP): {total_TP} | False Positive (FP): {total_FP}\")\n",
        "        print(f\"False Negative (FN): {total_FN} | True Negative (TN): {total_TN}\")\n",
        "        print(\"---------------------------------------------------------\")\n",
        "        print(f\"Accuracy: {accuracy:.4f}\")\n",
        "        print(f\"Precision: {precision:.4f}\")\n",
        "        print(f\"Recall: {recall:.4f}\")\n",
        "\n",
        "    print(f\"Saved visualization plot to {save_path}\")"
      ],
      "metadata": {
        "id": "wN_DPVyle2ls"
      },
      "id": "wN_DPVyle2ls",
      "execution_count": null,
      "outputs": []
    },
    {
      "cell_type": "code",
      "execution_count": null,
      "id": "f0591601",
      "metadata": {
        "id": "f0591601"
      },
      "outputs": [],
      "source": [
        "def visualize_predictions(model, data_loader, device, num_samples=5, save_path='predictions.png'):\n",
        "    \"\"\"Visualize predictions: original image, ground truth, and prediction\"\"\"\n",
        "    model.eval()\n",
        "\n",
        "    fig, axes = plt.subplots(num_samples, 3, figsize=(12, 4*num_samples))\n",
        "    if num_samples == 1:\n",
        "        axes = axes.reshape(1, -1)\n",
        "\n",
        "    sample_count = 0\n",
        "    with torch.no_grad():\n",
        "        for images, masks in data_loader:\n",
        "            images = images.to(device)\n",
        "            outputs = model(images)\n",
        "            preds = torch.sigmoid(outputs)\n",
        "\n",
        "            for i in range(len(images)):\n",
        "                if sample_count >= num_samples:\n",
        "                    break\n",
        "\n",
        "                # Original image (grayscale)\n",
        "                img = images[i].cpu().squeeze().numpy()\n",
        "                axes[sample_count, 0].imshow(img, cmap='gray')\n",
        "                axes[sample_count, 0].set_title('Input Image')\n",
        "                axes[sample_count, 0].axis('off')\n",
        "\n",
        "                # Ground truth\n",
        "                mask = masks[i].cpu().squeeze().numpy()\n",
        "                axes[sample_count, 1].imshow(mask, cmap='gray')\n",
        "                axes[sample_count, 1].set_title('Ground Truth')\n",
        "                axes[sample_count, 1].axis('off')\n",
        "\n",
        "                # Prediction\n",
        "                pred = (preds[i].cpu().squeeze().numpy() > 0.5).astype(np.float32)\n",
        "                axes[sample_count, 2].imshow(pred, cmap='gray', vmin=0, vmax=1)\n",
        "                dice = dice_coefficient(preds[i:i+1], masks[i:i+1].to(device)).item()\n",
        "                if(pred.all() == 0):\n",
        "                  axes[sample_count, 2].set_title(f'No Tumor')\n",
        "                else:\n",
        "                   axes[sample_count, 2].set_title(f'Prediction (Dice: {dice:.3f})')\n",
        "                axes[sample_count, 2].axis('off')\n",
        "\n",
        "                sample_count += 1\n",
        "\n",
        "            if sample_count >= num_samples:\n",
        "                break\n",
        "\n",
        "    plt.tight_layout()\n",
        "    plt.savefig(save_path, dpi=300, bbox_inches='tight')\n",
        "    plt.show()\n",
        "    print(f\"Saved to {save_path}\")"
      ]
    },
    {
      "cell_type": "code",
      "execution_count": null,
      "id": "3aff16a1",
      "metadata": {
        "id": "3aff16a1"
      },
      "outputs": [],
      "source": [
        "model = TransUNet(\n",
        "    img_size=256,\n",
        "    patch_size=16,\n",
        "    in_channels=1,\n",
        "    num_classes=1,\n",
        "    embed_dim=768,\n",
        "    num_heads=12,\n",
        "    num_layers=12,\n",
        ").to(device)"
      ]
    },
    {
      "cell_type": "code",
      "execution_count": null,
      "id": "38f2dc7d",
      "metadata": {
        "colab": {
          "base_uri": "https://localhost:8080/"
        },
        "id": "38f2dc7d",
        "outputId": "944f11de-88aa-434e-eb9c-cc775354fe13"
      },
      "outputs": [
        {
          "output_type": "stream",
          "name": "stdout",
          "text": [
            "Total parameters: 108,156,081\n"
          ]
        }
      ],
      "source": [
        "total_params = sum(p.numel() for p in model.parameters())\n",
        "print(f\"Total parameters: {total_params:,}\")"
      ]
    },
    {
      "cell_type": "code",
      "execution_count": null,
      "id": "1687abeb",
      "metadata": {
        "id": "1687abeb"
      },
      "outputs": [],
      "source": [
        "#Split data to train and validation\n",
        "train_size = int(0.8 * len(train_dataset))\n",
        "val_size = len(train_dataset) - train_size\n",
        "train_dataset, val_dataset = torch.utils.data.random_split(train_dataset, [train_size, val_size])\n",
        "\n",
        "train_loader = DataLoader(train_dataset, batch_size=8, shuffle=True)\n",
        "val_loader = DataLoader(val_dataset, batch_size=8, shuffle=False)"
      ]
    },
    {
      "cell_type": "code",
      "execution_count": null,
      "id": "7e176f35",
      "metadata": {
        "colab": {
          "base_uri": "https://localhost:8080/",
          "height": 1000
        },
        "collapsed": true,
        "id": "7e176f35",
        "outputId": "5a72b0c3-78a1-48b0-9032-6e0abeda83c9"
      },
      "outputs": [
        {
          "metadata": {
            "tags": null
          },
          "name": "stdout",
          "output_type": "stream",
          "text": [
            "\n",
            "3. Starting training...\n",
            "\n",
            "Epoch 1/20\n",
            "--------------------------------------------------\n"
          ]
        },
        {
          "metadata": {
            "tags": null
          },
          "name": "stderr",
          "output_type": "stream",
          "text": [
            "Training: 100%|██████████| 61/61 [00:39<00:00,  1.56it/s, Loss=0.7807, Dice=0.0163]\n"
          ]
        },
        {
          "metadata": {
            "tags": null
          },
          "name": "stdout",
          "output_type": "stream",
          "text": [
            "Train Loss: 0.7858, Train Dice: 0.0189\n"
          ]
        },
        {
          "metadata": {
            "tags": null
          },
          "name": "stderr",
          "output_type": "stream",
          "text": [
            "Validation: 100%|██████████| 16/16 [00:03<00:00,  4.05it/s]\n"
          ]
        },
        {
          "metadata": {
            "tags": null
          },
          "name": "stdout",
          "output_type": "stream",
          "text": [
            "Val Loss: 0.7792, Val Dice: 0.0265\n",
            "Val IoU: 0.0156\n",
            "TP: 2666, TN: 332669, FP: 164376, FN: 1\n",
            "✓ Best model saved with Dice: 0.0265\n",
            "\n",
            "Epoch 2/20\n",
            "--------------------------------------------------\n"
          ]
        },
        {
          "metadata": {
            "tags": null
          },
          "name": "stderr",
          "output_type": "stream",
          "text": [
            "Training: 100%|██████████| 61/61 [00:39<00:00,  1.53it/s, Loss=0.7755, Dice=0.0000]\n"
          ]
        },
        {
          "metadata": {
            "tags": null
          },
          "name": "stdout",
          "output_type": "stream",
          "text": [
            "Train Loss: 0.7758, Train Dice: 0.0220\n"
          ]
        },
        {
          "metadata": {
            "tags": null
          },
          "name": "stderr",
          "output_type": "stream",
          "text": [
            "Validation: 100%|██████████| 16/16 [00:04<00:00,  3.93it/s]\n"
          ]
        },
        {
          "metadata": {
            "tags": null
          },
          "name": "stdout",
          "output_type": "stream",
          "text": [
            "Val Loss: 0.7699, Val Dice: 0.0414\n",
            "Val IoU: 0.0314\n",
            "TP: 2544, TN: 426217, FP: 70828, FN: 122\n",
            "✓ Best model saved with Dice: 0.0414\n",
            "\n",
            "Epoch 3/20\n",
            "--------------------------------------------------\n"
          ]
        },
        {
          "metadata": {
            "tags": null
          },
          "name": "stderr",
          "output_type": "stream",
          "text": [
            "Training: 100%|██████████| 61/61 [00:41<00:00,  1.49it/s, Loss=0.7551, Dice=0.1792]\n"
          ]
        },
        {
          "metadata": {
            "tags": null
          },
          "name": "stdout",
          "output_type": "stream",
          "text": [
            "Train Loss: 0.7682, Train Dice: 0.0423\n"
          ]
        },
        {
          "metadata": {
            "tags": null
          },
          "name": "stderr",
          "output_type": "stream",
          "text": [
            "Validation: 100%|██████████| 16/16 [00:04<00:00,  3.95it/s]\n"
          ]
        },
        {
          "metadata": {
            "tags": null
          },
          "name": "stdout",
          "output_type": "stream",
          "text": [
            "Val Loss: 0.7646, Val Dice: 0.0506\n",
            "Val IoU: 0.0427\n",
            "TP: 2624, TN: 445576, FP: 51469, FN: 43\n",
            "✓ Best model saved with Dice: 0.0506\n",
            "\n",
            "Epoch 4/20\n",
            "--------------------------------------------------\n"
          ]
        },
        {
          "metadata": {
            "tags": null
          },
          "name": "stderr",
          "output_type": "stream",
          "text": [
            "Training: 100%|██████████| 61/61 [00:40<00:00,  1.50it/s, Loss=0.7493, Dice=0.1946]\n"
          ]
        },
        {
          "metadata": {
            "tags": null
          },
          "name": "stdout",
          "output_type": "stream",
          "text": [
            "Train Loss: 0.7609, Train Dice: 0.0736\n"
          ]
        },
        {
          "metadata": {
            "tags": null
          },
          "name": "stderr",
          "output_type": "stream",
          "text": [
            "Validation: 100%|██████████| 16/16 [00:04<00:00,  3.90it/s]\n"
          ]
        },
        {
          "metadata": {
            "tags": null
          },
          "name": "stdout",
          "output_type": "stream",
          "text": [
            "Val Loss: 0.7556, Val Dice: 0.0928\n",
            "Val IoU: 0.0955\n",
            "TP: 2450, TN: 479629, FP: 17417, FN: 216\n",
            "✓ Best model saved with Dice: 0.0928\n",
            "\n",
            "Epoch 5/20\n",
            "--------------------------------------------------\n"
          ]
        },
        {
          "metadata": {
            "tags": null
          },
          "name": "stderr",
          "output_type": "stream",
          "text": [
            "Training: 100%|██████████| 61/61 [00:40<00:00,  1.50it/s, Loss=0.7509, Dice=0.1255]\n"
          ]
        },
        {
          "metadata": {
            "tags": null
          },
          "name": "stdout",
          "output_type": "stream",
          "text": [
            "Train Loss: 0.7540, Train Dice: 0.0998\n"
          ]
        },
        {
          "metadata": {
            "tags": null
          },
          "name": "stderr",
          "output_type": "stream",
          "text": [
            "Validation: 100%|██████████| 16/16 [00:04<00:00,  3.90it/s]\n"
          ]
        },
        {
          "metadata": {
            "tags": null
          },
          "name": "stdout",
          "output_type": "stream",
          "text": [
            "Val Loss: 0.7480, Val Dice: 0.1177\n",
            "Val IoU: 0.1542\n",
            "TP: 2026, TN: 490221, FP: 6825, FN: 641\n",
            "✓ Best model saved with Dice: 0.1177\n",
            "\n",
            "Epoch 6/20\n",
            "--------------------------------------------------\n"
          ]
        },
        {
          "metadata": {
            "tags": null
          },
          "name": "stderr",
          "output_type": "stream",
          "text": [
            "Training: 100%|██████████| 61/61 [00:40<00:00,  1.50it/s, Loss=0.7458, Dice=0.1453]\n"
          ]
        },
        {
          "metadata": {
            "tags": null
          },
          "name": "stdout",
          "output_type": "stream",
          "text": [
            "Train Loss: 0.7473, Train Dice: 0.1143\n"
          ]
        },
        {
          "metadata": {
            "tags": null
          },
          "name": "stderr",
          "output_type": "stream",
          "text": [
            "Validation: 100%|██████████| 16/16 [00:04<00:00,  3.67it/s]\n"
          ]
        },
        {
          "metadata": {
            "tags": null
          },
          "name": "stdout",
          "output_type": "stream",
          "text": [
            "Val Loss: 0.7403, Val Dice: 0.0911\n",
            "Val IoU: 0.1473\n",
            "TP: 1170, TN: 494549, FP: 2496, FN: 1497\n",
            "\n",
            "Epoch 7/20\n",
            "--------------------------------------------------\n"
          ]
        },
        {
          "metadata": {
            "tags": null
          },
          "name": "stderr",
          "output_type": "stream",
          "text": [
            "Training: 100%|██████████| 61/61 [00:41<00:00,  1.49it/s, Loss=0.7330, Dice=0.1163]\n"
          ]
        },
        {
          "metadata": {
            "tags": null
          },
          "name": "stdout",
          "output_type": "stream",
          "text": [
            "Train Loss: 0.7383, Train Dice: 0.1508\n"
          ]
        },
        {
          "metadata": {
            "tags": null
          },
          "name": "stderr",
          "output_type": "stream",
          "text": [
            "Validation: 100%|██████████| 16/16 [00:04<00:00,  3.96it/s]\n"
          ]
        },
        {
          "metadata": {
            "tags": null
          },
          "name": "stdout",
          "output_type": "stream",
          "text": [
            "Val Loss: 0.7346, Val Dice: 0.1174\n",
            "Val IoU: 0.1317\n",
            "TP: 2425, TN: 485990, FP: 11056, FN: 241\n",
            "\n",
            "Epoch 8/20\n",
            "--------------------------------------------------\n"
          ]
        },
        {
          "metadata": {
            "tags": null
          },
          "name": "stderr",
          "output_type": "stream",
          "text": [
            "Training: 100%|██████████| 61/61 [00:41<00:00,  1.49it/s, Loss=0.7227, Dice=0.3932]\n"
          ]
        },
        {
          "metadata": {
            "tags": null
          },
          "name": "stdout",
          "output_type": "stream",
          "text": [
            "Train Loss: 0.7295, Train Dice: 0.2968\n"
          ]
        },
        {
          "metadata": {
            "tags": null
          },
          "name": "stderr",
          "output_type": "stream",
          "text": [
            "Validation: 100%|██████████| 16/16 [00:04<00:00,  3.78it/s]\n"
          ]
        },
        {
          "metadata": {
            "tags": null
          },
          "name": "stdout",
          "output_type": "stream",
          "text": [
            "Val Loss: 0.7256, Val Dice: 0.4142\n",
            "Val IoU: 0.2336\n",
            "TP: 724, TN: 496639, FP: 407, FN: 1942\n",
            "✓ Best model saved with Dice: 0.4142\n",
            "\n",
            "Epoch 9/20\n",
            "--------------------------------------------------\n"
          ]
        },
        {
          "metadata": {
            "tags": null
          },
          "name": "stderr",
          "output_type": "stream",
          "text": [
            "Training: 100%|██████████| 61/61 [00:40<00:00,  1.49it/s, Loss=0.7226, Dice=0.3274]\n"
          ]
        },
        {
          "metadata": {
            "tags": null
          },
          "name": "stdout",
          "output_type": "stream",
          "text": [
            "Train Loss: 0.7229, Train Dice: 0.2539\n"
          ]
        },
        {
          "metadata": {
            "tags": null
          },
          "name": "stderr",
          "output_type": "stream",
          "text": [
            "Validation: 100%|██████████| 16/16 [00:04<00:00,  3.75it/s]\n"
          ]
        },
        {
          "metadata": {
            "tags": null
          },
          "name": "stdout",
          "output_type": "stream",
          "text": [
            "Val Loss: 0.7181, Val Dice: 0.1353\n",
            "Val IoU: 0.2101\n",
            "TP: 1714, TN: 493783, FP: 3262, FN: 952\n",
            "\n",
            "Epoch 10/20\n",
            "--------------------------------------------------\n"
          ]
        },
        {
          "metadata": {
            "tags": null
          },
          "name": "stderr",
          "output_type": "stream",
          "text": [
            "Training: 100%|██████████| 61/61 [00:41<00:00,  1.48it/s, Loss=0.7190, Dice=0.1667]\n"
          ]
        },
        {
          "metadata": {
            "tags": null
          },
          "name": "stdout",
          "output_type": "stream",
          "text": [
            "Train Loss: 0.7169, Train Dice: 0.2710\n"
          ]
        },
        {
          "metadata": {
            "tags": null
          },
          "name": "stderr",
          "output_type": "stream",
          "text": [
            "Validation: 100%|██████████| 16/16 [00:04<00:00,  3.94it/s]\n"
          ]
        },
        {
          "metadata": {
            "tags": null
          },
          "name": "stdout",
          "output_type": "stream",
          "text": [
            "Val Loss: 0.7129, Val Dice: 0.1278\n",
            "Val IoU: 0.1353\n",
            "TP: 2382, TN: 486150, FP: 10895, FN: 285\n",
            "\n",
            "Epoch 11/20\n",
            "--------------------------------------------------\n"
          ]
        },
        {
          "metadata": {
            "tags": null
          },
          "name": "stderr",
          "output_type": "stream",
          "text": [
            "Training: 100%|██████████| 61/61 [00:41<00:00,  1.48it/s, Loss=0.7081, Dice=0.2176]\n"
          ]
        },
        {
          "metadata": {
            "tags": null
          },
          "name": "stdout",
          "output_type": "stream",
          "text": [
            "Train Loss: 0.7095, Train Dice: 0.3098\n"
          ]
        },
        {
          "metadata": {
            "tags": null
          },
          "name": "stderr",
          "output_type": "stream",
          "text": [
            "Validation: 100%|██████████| 16/16 [00:04<00:00,  3.69it/s]\n"
          ]
        },
        {
          "metadata": {
            "tags": null
          },
          "name": "stdout",
          "output_type": "stream",
          "text": [
            "Val Loss: 0.7043, Val Dice: 0.1871\n",
            "Val IoU: 0.2227\n",
            "TP: 2289, TN: 491948, FP: 5097, FN: 377\n",
            "\n",
            "Epoch 12/20\n",
            "--------------------------------------------------\n"
          ]
        },
        {
          "metadata": {
            "tags": null
          },
          "name": "stderr",
          "output_type": "stream",
          "text": [
            "Training: 100%|██████████| 61/61 [00:41<00:00,  1.49it/s, Loss=0.7026, Dice=0.1877]\n"
          ]
        },
        {
          "metadata": {
            "tags": null
          },
          "name": "stdout",
          "output_type": "stream",
          "text": [
            "Train Loss: 0.7035, Train Dice: 0.3628\n"
          ]
        },
        {
          "metadata": {
            "tags": null
          },
          "name": "stderr",
          "output_type": "stream",
          "text": [
            "Validation: 100%|██████████| 16/16 [00:03<00:00,  4.02it/s]\n"
          ]
        },
        {
          "metadata": {
            "tags": null
          },
          "name": "stdout",
          "output_type": "stream",
          "text": [
            "Val Loss: 0.6996, Val Dice: 0.3008\n",
            "Val IoU: 0.3081\n",
            "TP: 1844, TN: 494978, FP: 2068, FN: 823\n",
            "\n",
            "Epoch 13/20\n",
            "--------------------------------------------------\n"
          ]
        },
        {
          "metadata": {
            "tags": null
          },
          "name": "stderr",
          "output_type": "stream",
          "text": [
            "Training: 100%|██████████| 61/61 [00:41<00:00,  1.48it/s, Loss=0.6957, Dice=0.5424]\n"
          ]
        },
        {
          "metadata": {
            "tags": null
          },
          "name": "stdout",
          "output_type": "stream",
          "text": [
            "Train Loss: 0.6967, Train Dice: 0.4011\n"
          ]
        },
        {
          "metadata": {
            "tags": null
          },
          "name": "stderr",
          "output_type": "stream",
          "text": [
            "Validation: 100%|██████████| 16/16 [00:04<00:00,  3.72it/s]\n"
          ]
        },
        {
          "metadata": {
            "tags": null
          },
          "name": "stdout",
          "output_type": "stream",
          "text": [
            "Val Loss: 0.6911, Val Dice: 0.6238\n",
            "Val IoU: 0.2891\n",
            "TP: 912, TN: 496727, FP: 319, FN: 1755\n",
            "✓ Best model saved with Dice: 0.6238\n",
            "\n",
            "Epoch 14/20\n",
            "--------------------------------------------------\n"
          ]
        },
        {
          "metadata": {
            "tags": null
          },
          "name": "stderr",
          "output_type": "stream",
          "text": [
            "Training: 100%|██████████| 61/61 [00:41<00:00,  1.48it/s, Loss=0.6942, Dice=0.1667]\n"
          ]
        },
        {
          "metadata": {
            "tags": null
          },
          "name": "stdout",
          "output_type": "stream",
          "text": [
            "Train Loss: 0.6911, Train Dice: 0.3940\n"
          ]
        },
        {
          "metadata": {
            "tags": null
          },
          "name": "stderr",
          "output_type": "stream",
          "text": [
            "Validation: 100%|██████████| 16/16 [00:04<00:00,  3.62it/s]\n"
          ]
        },
        {
          "metadata": {
            "tags": null
          },
          "name": "stdout",
          "output_type": "stream",
          "text": [
            "Val Loss: 0.6860, Val Dice: 0.3541\n",
            "Val IoU: 0.3691\n",
            "TP: 1962, TN: 495494, FP: 1552, FN: 704\n",
            "\n",
            "Epoch 15/20\n",
            "--------------------------------------------------\n"
          ]
        },
        {
          "metadata": {
            "tags": null
          },
          "name": "stderr",
          "output_type": "stream",
          "text": [
            "Training: 100%|██████████| 61/61 [00:41<00:00,  1.49it/s, Loss=0.6829, Dice=0.6371]\n"
          ]
        },
        {
          "metadata": {
            "tags": null
          },
          "name": "stdout",
          "output_type": "stream",
          "text": [
            "Train Loss: 0.6860, Train Dice: 0.3962\n"
          ]
        },
        {
          "metadata": {
            "tags": null
          },
          "name": "stderr",
          "output_type": "stream",
          "text": [
            "Validation: 100%|██████████| 16/16 [00:04<00:00,  3.99it/s]\n"
          ]
        },
        {
          "metadata": {
            "tags": null
          },
          "name": "stdout",
          "output_type": "stream",
          "text": [
            "Val Loss: 0.6802, Val Dice: 0.2665\n",
            "Val IoU: 0.2926\n",
            "TP: 1836, TN: 494831, FP: 2214, FN: 830\n",
            "\n",
            "Epoch 16/20\n",
            "--------------------------------------------------\n"
          ]
        },
        {
          "metadata": {
            "tags": null
          },
          "name": "stderr",
          "output_type": "stream",
          "text": [
            "Training: 100%|██████████| 61/61 [00:40<00:00,  1.50it/s, Loss=0.6690, Dice=0.9684]\n"
          ]
        },
        {
          "metadata": {
            "tags": null
          },
          "name": "stdout",
          "output_type": "stream",
          "text": [
            "Train Loss: 0.6796, Train Dice: 0.4269\n"
          ]
        },
        {
          "metadata": {
            "tags": null
          },
          "name": "stderr",
          "output_type": "stream",
          "text": [
            "Validation: 100%|██████████| 16/16 [00:04<00:00,  3.59it/s]\n"
          ]
        },
        {
          "metadata": {
            "tags": null
          },
          "name": "stdout",
          "output_type": "stream",
          "text": [
            "Val Loss: 0.6742, Val Dice: 0.5222\n",
            "Val IoU: 0.3334\n",
            "TP: 2087, TN: 494418, FP: 2628, FN: 580\n",
            "\n",
            "Epoch 17/20\n",
            "--------------------------------------------------\n"
          ]
        },
        {
          "output_type": "stream",
          "name": "stderr",
          "text": [
            "Training: 100%|██████████| 61/61 [00:40<00:00,  1.51it/s, Loss=0.6737, Dice=0.3224]\n"
          ]
        },
        {
          "output_type": "stream",
          "name": "stdout",
          "text": [
            "Train Loss: 0.6739, Train Dice: 0.4701\n"
          ]
        },
        {
          "output_type": "stream",
          "name": "stderr",
          "text": [
            "Validation: 100%|██████████| 16/16 [00:03<00:00,  4.04it/s]\n"
          ]
        },
        {
          "output_type": "stream",
          "name": "stdout",
          "text": [
            "Val Loss: 0.6664, Val Dice: 0.4517\n",
            "Val IoU: 0.3470\n",
            "TP: 2013, TN: 495245, FP: 1801, FN: 654\n",
            "\n",
            "Epoch 18/20\n",
            "--------------------------------------------------\n"
          ]
        },
        {
          "output_type": "stream",
          "name": "stderr",
          "text": [
            "Training: 100%|██████████| 61/61 [00:40<00:00,  1.51it/s, Loss=0.6717, Dice=0.2682]\n"
          ]
        },
        {
          "output_type": "stream",
          "name": "stdout",
          "text": [
            "Train Loss: 0.6680, Train Dice: 0.4583\n"
          ]
        },
        {
          "output_type": "stream",
          "name": "stderr",
          "text": [
            "Validation: 100%|██████████| 16/16 [00:04<00:00,  3.86it/s]\n"
          ]
        },
        {
          "output_type": "stream",
          "name": "stdout",
          "text": [
            "Val Loss: 0.6614, Val Dice: 0.5271\n",
            "Val IoU: 0.3803\n",
            "TP: 1538, TN: 496157, FP: 889, FN: 1128\n",
            "\n",
            "Epoch 19/20\n",
            "--------------------------------------------------\n"
          ]
        },
        {
          "output_type": "stream",
          "name": "stderr",
          "text": [
            "Training: 100%|██████████| 61/61 [00:40<00:00,  1.52it/s, Loss=0.6576, Dice=0.2692]\n"
          ]
        },
        {
          "output_type": "stream",
          "name": "stdout",
          "text": [
            "Train Loss: 0.6622, Train Dice: 0.4937\n"
          ]
        },
        {
          "output_type": "stream",
          "name": "stderr",
          "text": [
            "Validation: 100%|██████████| 16/16 [00:04<00:00,  3.95it/s]\n"
          ]
        },
        {
          "output_type": "stream",
          "name": "stdout",
          "text": [
            "Val Loss: 0.8704, Val Dice: 0.0410\n",
            "Val IoU: 0.0331\n",
            "TP: 2654, TN: 428921, FP: 68125, FN: 12\n",
            "\n",
            "Epoch 20/20\n",
            "--------------------------------------------------\n"
          ]
        },
        {
          "output_type": "stream",
          "name": "stderr",
          "text": [
            "Training: 100%|██████████| 61/61 [00:40<00:00,  1.52it/s, Loss=0.6420, Dice=0.7467]\n"
          ]
        },
        {
          "output_type": "stream",
          "name": "stdout",
          "text": [
            "Train Loss: 0.6575, Train Dice: 0.4389\n"
          ]
        },
        {
          "output_type": "stream",
          "name": "stderr",
          "text": [
            "Validation: 100%|██████████| 16/16 [00:04<00:00,  3.99it/s]\n"
          ]
        },
        {
          "output_type": "stream",
          "name": "stdout",
          "text": [
            "Val Loss: 0.6532, Val Dice: 0.4610\n",
            "Val IoU: 0.3597\n",
            "TP: 1793, TN: 495472, FP: 1574, FN: 873\n"
          ]
        },
        {
          "output_type": "display_data",
          "data": {
            "text/plain": [
              "<Figure size 1500x500 with 2 Axes>"
            ],
            "image/png": "[encoded data removed]"
          },
          "metadata": {}
        }
      ],
      "source": [
        "print(\"\\n3. Starting training...\")\n",
        "model, best_dice = train_model(\n",
        "    model, train_loader, val_loader,\n",
        "    num_epochs=20,\n",
        "    learning_rate=1e-4\n",
        ")"
      ]
    },
    {
      "cell_type": "code",
      "execution_count": null,
      "id": "23146bf5",
      "metadata": {
        "colab": {
          "base_uri": "https://localhost:8080/"
        },
        "id": "23146bf5",
        "outputId": "f7daf3a3-2cb4-4544-b270-6c6e07dc2d07"
      },
      "outputs": [
        {
          "output_type": "stream",
          "name": "stdout",
          "text": [
            "\n",
            "\n",
            "Training complete. Best Dice Score: 0.6238\n"
          ]
        }
      ],
      "source": [
        "print(f'\\n\\nTraining complete. Best Dice Score: {best_dice:.4f}')"
      ]
    },
    {
      "cell_type": "code",
      "execution_count": null,
      "id": "c8b1390a",
      "metadata": {
        "colab": {
          "base_uri": "https://localhost:8080/",
          "height": 273
        },
        "id": "c8b1390a",
        "outputId": "66cad417-4a60-4ab2-8456-75ebc1fcc366"
      },
      "outputs": [
        {
          "output_type": "stream",
          "name": "stdout",
          "text": [
            "\n",
            "4. Generating visualizations...\n"
          ]
        },
        {
          "output_type": "error",
          "ename": "NameError",
          "evalue": "name 'model' is not defined",
          "traceback": [
            "\u001b[0;31m---------------------------------------------------------------------------\u001b[0m",
            "\u001b[0;31mNameError\u001b[0m                                 Traceback (most recent call last)",
            "\u001b[0;32m/tmp/ipython-input-1590050753.py\u001b[0m in \u001b[0;36m<cell line: 0>\u001b[0;34m()\u001b[0m\n\u001b[1;32m      1\u001b[0m \u001b[0;31m# Visualize results\u001b[0m\u001b[0;34m\u001b[0m\u001b[0;34m\u001b[0m\u001b[0m\n\u001b[1;32m      2\u001b[0m \u001b[0mprint\u001b[0m\u001b[0;34m(\u001b[0m\u001b[0;34m\"\\n4. Generating visualizations...\"\u001b[0m\u001b[0;34m)\u001b[0m\u001b[0;34m\u001b[0m\u001b[0;34m\u001b[0m\u001b[0m\n\u001b[0;32m----> 3\u001b[0;31m \u001b[0mvisualize_predictions_CM\u001b[0m\u001b[0;34m(\u001b[0m\u001b[0mmodel\u001b[0m\u001b[0;34m,\u001b[0m \u001b[0mval_loader\u001b[0m\u001b[0;34m,\u001b[0m \u001b[0mdevice\u001b[0m\u001b[0;34m,\u001b[0m \u001b[0mnum_samples\u001b[0m\u001b[0;34m=\u001b[0m\u001b[0mlen\u001b[0m\u001b[0;34m(\u001b[0m\u001b[0mtrain_dataset\u001b[0m\u001b[0;34m)\u001b[0m\u001b[0;34m)\u001b[0m\u001b[0;34m\u001b[0m\u001b[0;34m\u001b[0m\u001b[0m\n\u001b[0m",
            "\u001b[0;31mNameError\u001b[0m: name 'model' is not defined"
          ]
        }
      ],
      "source": [
        "# Visualize results\n",
        "print(\"\\n4. Generating visualizations...\")\n",
        "visualize_predictions_CM(model, val_loader, device, num_samples=len(train_dataset))"
      ]
    }
  ],
  "metadata": {
    "kernelspec": {
      "display_name": "Python 3",
      "name": "python3"
    },
    "language_info": {
      "codemirror_mode": {
        "name": "ipython",
        "version": 3
      },
      "file_extension": ".py",
      "mimetype": "text/x-python",
      "name": "python",
      "nbconvert_exporter": "python",
      "pygments_lexer": "ipython3",
      "version": "3.12.8"
    },
    "colab": {
      "provenance": [],
      "gpuType": "T4",
      "include_colab_link": true
    },
    "accelerator": "GPU"
  },
  "nbformat": 4,
  "nbformat_minor": 5
}